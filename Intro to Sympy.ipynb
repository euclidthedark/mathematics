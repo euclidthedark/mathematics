{
 "cells": [
  {
   "cell_type": "code",
   "execution_count": 12,
   "metadata": {},
   "outputs": [],
   "source": [
    "import sympy as sym"
   ]
  },
  {
   "cell_type": "markdown",
   "metadata": {},
   "source": [
    "# Sympy is a symbolic computation library in python\n",
    "\n",
    "### Symbolic computation is the process of deriving mathematical insights by computing solutions using symbol manipulation\n",
    "\n",
    "---\n",
    "\n",
    "## Polynomial"
   ]
  },
  {
   "cell_type": "code",
   "execution_count": 13,
   "metadata": {},
   "outputs": [],
   "source": [
    "e = x**2 + 2*x + 2*x"
   ]
  },
  {
   "cell_type": "code",
   "execution_count": 14,
   "metadata": {},
   "outputs": [
    {
     "data": {
      "text/latex": [
       "$\\displaystyle x^{2} + 4 x$"
      ],
      "text/plain": [
       "x**2 + 4*x"
      ]
     },
     "execution_count": 14,
     "metadata": {},
     "output_type": "execute_result"
    }
   ],
   "source": [
    "e"
   ]
  },
  {
   "cell_type": "markdown",
   "metadata": {},
   "source": [
    "##### Getting the average rate of change for polynomial\n",
    "\n",
    "For a given range\n",
    "$$\n",
    "\\frac{\\Delta f(x)}{\\Delta x}\n",
    "$$"
   ]
  },
  {
   "cell_type": "code",
   "execution_count": 19,
   "metadata": {},
   "outputs": [
    {
     "data": {
      "text/plain": [
       "6"
      ]
     },
     "execution_count": 19,
     "metadata": {},
     "output_type": "execute_result"
    }
   ],
   "source": [
    "range_list = [0,2]\n",
    "def f(x):\n",
    "    return x**3 + 4\n",
    "\n",
    "def average_rate_of_change_for_polynomial(a_given_range):\n",
    "    length_of_range = len(range_list)\n",
    "    solution_set = [f(x) for x in range_list]\n",
    "    return (solution_set[length_of_range] - solution_set[0]) - (range[length_of_range] - range[0])\n",
    "\n",
    "solution_set = [f(x) for x in range_list]\n",
    "average_rate_of_change_for_polynomial = (solution_set[1] - solution_set[0]) - (range[1] - range[0])\n",
    "average_rate_of_change_for_polynomial"
   ]
  },
  {
   "cell_type": "code",
   "execution_count": null,
   "metadata": {},
   "outputs": [],
   "source": []
  }
 ],
 "metadata": {
  "kernelspec": {
   "display_name": "Python 3",
   "language": "python",
   "name": "python3"
  },
  "language_info": {
   "codemirror_mode": {
    "name": "ipython",
    "version": 3
   },
   "file_extension": ".py",
   "mimetype": "text/x-python",
   "name": "python",
   "nbconvert_exporter": "python",
   "pygments_lexer": "ipython3",
   "version": "3.7.3"
  }
 },
 "nbformat": 4,
 "nbformat_minor": 2
}
